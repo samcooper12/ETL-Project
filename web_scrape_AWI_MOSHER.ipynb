{
 "cells": [
  {
   "cell_type": "code",
   "execution_count": null,
   "metadata": {},
   "outputs": [],
   "source": [
    "import pandas as pd"
   ]
  },
  {
   "cell_type": "code",
   "execution_count": null,
   "metadata": {},
   "outputs": [],
   "source": [
    "# URL for the threatened and endangered species lists from the Animal Welfare Institute\n",
    "url = \"https://awionline.org/content/list-endangered-species\""
   ]
  },
  {
   "cell_type": "code",
   "execution_count": null,
   "metadata": {},
   "outputs": [],
   "source": [
    "# Scrape the website for tables of threatened/endangered species\n",
    "tables = pd.read_html(url)\n",
    "tables"
   ]
  },
  {
   "cell_type": "code",
   "execution_count": null,
   "metadata": {},
   "outputs": [],
   "source": [
    "# Create a dataframe for the table from the website ~ based on taxonomic group\n",
    "mammal_df = tables[0]\n",
    "mammal_df.columns = [\"Common Name\", \"Scientific Name\", \"Status\"]"
   ]
  },
  {
   "cell_type": "code",
   "execution_count": null,
   "metadata": {},
   "outputs": [],
   "source": [
    "# Add a column representing the taxonomic group (from the Animal Welfare Institute)\n",
    "mammal_df[\"Taxon Group\"] = \"Mammal\"\n",
    "mammal_df.head()"
   ]
  },
  {
   "cell_type": "code",
   "execution_count": null,
   "metadata": {},
   "outputs": [],
   "source": [
    "# Create a dataframe for the table from the website ~ based on taxonomic group\n",
    "bird_df = tables[1]\n",
    "bird_df.columns = [\"Common Name\", \"Scientific Name\", \"Status\"]"
   ]
  },
  {
   "cell_type": "code",
   "execution_count": null,
   "metadata": {},
   "outputs": [],
   "source": [
    "# Add a column representing the taxonomic group (from the Animal Welfare Institute)\n",
    "bird_df[\"Taxon Group\"] = \"Bird\"\n",
    "bird_df.head()"
   ]
  },
  {
   "cell_type": "code",
   "execution_count": null,
   "metadata": {},
   "outputs": [],
   "source": [
    "# Create a dataframe for the table from the website ~ based on taxonomic group\n",
    "reptile_df = tables[2]\n",
    "reptile_df.columns = [\"Common Name\", \"Scientific Name\", \"Status\"]"
   ]
  },
  {
   "cell_type": "code",
   "execution_count": null,
   "metadata": {},
   "outputs": [],
   "source": [
    "# Add a column representing the taxonomic group (from the Animal Welfare Institute)\n",
    "reptile_df[\"Taxon Group\"] = \"Reptile\"\n",
    "reptile_df.head()"
   ]
  },
  {
   "cell_type": "code",
   "execution_count": null,
   "metadata": {},
   "outputs": [],
   "source": [
    "# Create a dataframe for the table from the website ~ based on taxonomic group\n",
    "amphibian_df = tables[3]\n",
    "amphibian_df.columns = [\"Common Name\", \"Scientific Name\", \"Status\"]"
   ]
  },
  {
   "cell_type": "code",
   "execution_count": null,
   "metadata": {},
   "outputs": [],
   "source": [
    "# Add a column representing the taxonomic group (from the Animal Welfare Institute)\n",
    "amphibian_df[\"Taxon Group\"] = \"Amphibian\"\n",
    "amphibian_df.head()"
   ]
  },
  {
   "cell_type": "code",
   "execution_count": null,
   "metadata": {},
   "outputs": [],
   "source": [
    "# Create a dataframe for the table from the website ~ based on taxonomic group\n",
    "fish_df = tables[4]\n",
    "fish_df.columns = [\"Common Name\", \"Scientific Name\", \"Status\"]"
   ]
  },
  {
   "cell_type": "code",
   "execution_count": null,
   "metadata": {},
   "outputs": [],
   "source": [
    "# Add a column representing the taxonomic group (from the Animal Welfare Institute)\n",
    "fish_df[\"Taxon Group\"] = \"Fish\"\n",
    "fish_df.head()"
   ]
  },
  {
   "cell_type": "code",
   "execution_count": null,
   "metadata": {},
   "outputs": [],
   "source": [
    "# Create a dataframe for the table from the website ~ based on taxonomic group\n",
    "clams_df = tables[5]\n",
    "clams_df.columns = [\"Common Name\", \"Scientific Name\", \"Status\"]"
   ]
  },
  {
   "cell_type": "code",
   "execution_count": null,
   "metadata": {},
   "outputs": [],
   "source": [
    "# Add a column representing the taxonomic group (from the Animal Welfare Institute)\n",
    "clams_df[\"Taxon Group\"] = \"Clam\"\n",
    "clams_df.head()"
   ]
  },
  {
   "cell_type": "code",
   "execution_count": null,
   "metadata": {},
   "outputs": [],
   "source": [
    "# Create a dataframe for the table from the website ~ based on taxonomic group\n",
    "snails_df = tables[6]\n",
    "snails_df.columns = [\"Common Name\", \"Scientific Name\", \"Status\"]"
   ]
  },
  {
   "cell_type": "code",
   "execution_count": null,
   "metadata": {},
   "outputs": [],
   "source": [
    "# Add a column representing the taxonomic group (from the Animal Welfare Institute)\n",
    "snails_df[\"Taxon Group\"] = \"Snail\"\n",
    "snails_df.head()"
   ]
  },
  {
   "cell_type": "code",
   "execution_count": null,
   "metadata": {},
   "outputs": [],
   "source": [
    "# Create a dataframe for the table from the website ~ based on taxonomic group\n",
    "insects_df = tables[7]\n",
    "insects_df.columns = [\"Common Name\", \"Scientific Name\", \"Status\"]"
   ]
  },
  {
   "cell_type": "code",
   "execution_count": null,
   "metadata": {},
   "outputs": [],
   "source": [
    "# Add a column representing the taxonomic group (from the Animal Welfare Institute)\n",
    "insects_df[\"Taxon Group\"] = \"Insect\"\n",
    "insects_df.head()"
   ]
  },
  {
   "cell_type": "code",
   "execution_count": null,
   "metadata": {},
   "outputs": [],
   "source": [
    "# Create a dataframe for the table from the website ~ based on taxonomic group\n",
    "arachnids_df = tables[8]\n",
    "arachnids_df.columns = [\"Common Name\", \"Scientific Name\", \"Status\"]"
   ]
  },
  {
   "cell_type": "code",
   "execution_count": null,
   "metadata": {},
   "outputs": [],
   "source": [
    "# Add a column representing the taxonomic group (from the Animal Welfare Institute)\n",
    "arachnids_df[\"Taxon Group\"] = \"Arachnid\"\n",
    "arachnids_df.head()"
   ]
  },
  {
   "cell_type": "code",
   "execution_count": null,
   "metadata": {},
   "outputs": [],
   "source": [
    "# Create a dataframe for the table from the website ~ based on taxonomic group\n",
    "crustaceans_df = tables[9]\n",
    "crustaceans_df.columns = [\"Common Name\", \"Scientific Name\", \"Status\"]"
   ]
  },
  {
   "cell_type": "code",
   "execution_count": null,
   "metadata": {},
   "outputs": [],
   "source": [
    "# Add a column representing the taxonomic group (from the Animal Welfare Institute)\n",
    "crustaceans_df[\"Taxon Group\"] = \"Crustacean\"\n",
    "crustaceans_df.head()"
   ]
  },
  {
   "cell_type": "code",
   "execution_count": null,
   "metadata": {},
   "outputs": [],
   "source": [
    "# Create a dataframe for the table from the website ~ based on taxonomic group\n",
    "corals_df = tables[10]\n",
    "corals_df.columns = [\"Common Name\", \"Scientific Name\", \"Status\"]"
   ]
  },
  {
   "cell_type": "code",
   "execution_count": null,
   "metadata": {},
   "outputs": [],
   "source": [
    "# Add a column representing the taxonomic group (from the Animal Welfare Institute)\n",
    "corals_df[\"Taxon Group\"] = \"Coral\"\n",
    "corals_df.head()"
   ]
  },
  {
   "cell_type": "code",
   "execution_count": null,
   "metadata": {},
   "outputs": [],
   "source": [
    "# Create a dataframe with all of the taxonomic groups\n",
    "dataframes = [mammal_df, bird_df, reptile_df, amphibian_df, fish_df, clams_df, snails_df, insects_df,\n",
    "             arachnids_df, crustaceans_df, corals_df]\n",
    "\n",
    "all_taxon_dataframe = pd.concat(dataframes)"
   ]
  },
  {
   "cell_type": "code",
   "execution_count": null,
   "metadata": {},
   "outputs": [],
   "source": [
    "# Reset the index so that the index does not repeat when the taxonomic group changes\n",
    "all_taxon_dataframe = all_taxon_dataframe.reset_index()"
   ]
  },
  {
   "cell_type": "code",
   "execution_count": null,
   "metadata": {},
   "outputs": [],
   "source": [
    "# Drop the column with the repetative numbers\n",
    "all_taxon_dataframe = all_taxon_dataframe.drop(\"index\", 1)"
   ]
  },
  {
   "cell_type": "code",
   "execution_count": null,
   "metadata": {},
   "outputs": [],
   "source": [
    "# Export dataframe to csv file\n",
    "all_taxon_dataframe.to_csv(\"status_from_AWI_MOSHER.csv\")"
   ]
  },
  {
   "cell_type": "code",
   "execution_count": null,
   "metadata": {},
   "outputs": [],
   "source": []
  }
 ],
 "metadata": {
  "kernelspec": {
   "display_name": "Python 3",
   "language": "python",
   "name": "python3"
  },
  "language_info": {
   "codemirror_mode": {
    "name": "ipython",
    "version": 3
   },
   "file_extension": ".py",
   "mimetype": "text/x-python",
   "name": "python",
   "nbconvert_exporter": "python",
   "pygments_lexer": "ipython3",
   "version": "3.6.9"
  }
 },
 "nbformat": 4,
 "nbformat_minor": 2
}
